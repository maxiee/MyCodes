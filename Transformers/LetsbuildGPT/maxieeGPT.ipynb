{
 "cells": [
  {
   "cell_type": "code",
   "execution_count": 1,
   "metadata": {},
   "outputs": [],
   "source": [
    "import torch\n",
    "import torch.nn as nn\n",
    "from torch.nn import functional as F"
   ]
  },
  {
   "cell_type": "code",
   "execution_count": 13,
   "metadata": {},
   "outputs": [
    {
     "name": "stdout",
     "output_type": "stream",
     "text": [
      "语料集的长度为： 217082\n",
      "打印前100个字符： 图书在版编目（CIP）数据\n",
      "\n",
      "\n",
      "怀孕呵护指南／六层楼先生著．—杭州：浙江科学技术出版社，2021.7\n",
      "\n",
      "ISBN 978-7-5341-9580-8\n",
      "\n",
      "Ⅰ．①怀…　Ⅱ．①六…　Ⅲ．①孕妇－妇幼保健－指\n"
     ]
    }
   ],
   "source": [
    "# 加载语料数据集\n",
    "with open('/home/maxiee/Documents/gpt_train_huaiyun.txt', 'r', encoding='utf-8') as f:\n",
    "    text = f.read()\n",
    "print('语料集的长度为：', len(text))\n",
    "print('打印前100个字符：', text[:100])"
   ]
  },
  {
   "cell_type": "code",
   "execution_count": 14,
   "metadata": {},
   "outputs": [
    {
     "name": "stdout",
     "output_type": "stream",
     "text": [
      "编码后的语料集长度为： 264500\n",
      "打印前100个字符： tensor([29129, 91386, 19000, 41401, 31968, 30832, 10110,    34,  3378,  7705,\n",
      "        20675,  1432, 17486,   222, 10890,   243, 17857,   113, 24326,    97,\n",
      "        64467, 59563, 96555,  6708,   255, 23602,   224, 61964,   120, 61826,\n",
      "        21990,   164,   239,   245, 59983,  2345, 14276,   255, 55139,  5232,\n",
      "        27699,   247, 70277, 70626, 48864, 83301,  4916,   107, 20834, 41401,\n",
      "        61337,  3922,  2366,    16,    13,    22,   271, 46285,   220, 17272,\n",
      "           12,    22,    12, 22467,    16,    12, 27079,    15,    12,    23,\n",
      "          271, 71567,   254, 59983, 49412,   254, 17486,   222,  1981, 23249,\n",
      "        71567,    94, 59983, 49412,   254,  6708,   255,  1981, 23249, 71567,\n",
      "           95, 59983, 49412,   254, 10890,   243,   161,    99,   229, 90581])\n"
     ]
    }
   ],
   "source": [
    "import tiktoken\n",
    "enc = tiktoken.get_encoding('cl100k_base')\n",
    "data = torch.tensor(enc.encode(text), dtype=torch.long)\n",
    "print('编码后的语料集长度为：', len(data))\n",
    "print('打印前100个字符：', data[:100])\n",
    "\n",
    "# Let's now split up the data into train and validation sets\n",
    "n = int(0.9*len(text)) # first 90% will be train, rest val\n",
    "train_data = data[:n]\n",
    "val_data = data[n:]"
   ]
  },
  {
   "cell_type": "code",
   "execution_count": 15,
   "metadata": {},
   "outputs": [
    {
     "name": "stdout",
     "output_type": "stream",
     "text": [
      "词表大小为： 100277\n"
     ]
    }
   ],
   "source": [
    "# 超参数\n",
    "n_embd = 64 # 词嵌入维度\n",
    "dropout = 0.2 # dropout概率\n",
    "batch_size = 16 # 一次训练迭代中用于更新模型权重的样本数量。\n",
    "block_size = 64 # 模型预测时可以考虑的最大上下文长度。\n",
    "n_head = 8\n",
    "n_layer = 8\n",
    "vocab_size = enc.n_vocab # 词表大小\n",
    "print('词表大小为：', vocab_size)\n",
    "device = 'cuda' if torch.cuda.is_available() else 'cpu'\n",
    "\n",
    "max_iters = 10\n",
    "eval_interval = 100\n",
    "learning_rate = 1e-3\n",
    "eval_iters = 200"
   ]
  },
  {
   "cell_type": "code",
   "execution_count": 16,
   "metadata": {},
   "outputs": [],
   "source": [
    "class Head(nn.Module):\n",
    "    \"\"\" 单头自注意力机制 \"\"\"\n",
    "\n",
    "    def __init__(self, head_size):\n",
    "        super().__init__()\n",
    "        self.key = nn.Linear(n_embd, head_size, bias=False)\n",
    "        self.query = nn.Linear(n_embd, head_size, bias=False)\n",
    "        self.value = nn.Linear(n_embd, head_size, bias=False)\n",
    "        self.register_buffer('tril', torch.tril(torch.ones(block_size, block_size)))\n",
    "\n",
    "        self.dropout = nn.Dropout(dropout)\n",
    "\n",
    "    def forward(self, x):\n",
    "        B,T,C = x.shape\n",
    "        k = self.key(x)   # (B,T,C)\n",
    "        q = self.query(x) # (B,T,C)\n",
    "        # compute attention scores (\"affinities\")\n",
    "        wei = q @ k.transpose(-2,-1) * C**-0.5 # (B, T, C) @ (B, C, T) -> (B, T, T)\n",
    "        wei = wei.masked_fill(self.tril[:T, :T] == 0, float('-inf')) # (B, T, T)\n",
    "        wei = F.softmax(wei, dim=-1) # (B, T, T)\n",
    "        wei = self.dropout(wei)\n",
    "        # perform the weighted aggregation of the values\n",
    "        v = self.value(x) # (B,T,C)\n",
    "        out = wei @ v # (B, T, T) @ (B, T, C) -> (B, T, C)\n",
    "        return out\n",
    "\n",
    "class MultiHeadAttention(nn.Module):\n",
    "    \"\"\" multiple heads of self-attention in parallel \"\"\"\n",
    "\n",
    "    def __init__(self, num_heads, head_size):\n",
    "        super().__init__()\n",
    "        self.heads = nn.ModuleList([Head(head_size) for _ in range(num_heads)])\n",
    "        self.proj = nn.Linear(n_embd, n_embd)\n",
    "        self.dropout = nn.Dropout(dropout)\n",
    "\n",
    "    def forward(self, x):\n",
    "        out = torch.cat([h(x) for h in self.heads], dim=-1)\n",
    "        out = self.dropout(self.proj(out))\n",
    "        return out\n",
    "\n",
    "class FeedFoward(nn.Module):\n",
    "    \"\"\" a simple linear layer followed by a non-linearity \"\"\"\n",
    "\n",
    "    def __init__(self, n_embd):\n",
    "        super().__init__()\n",
    "        self.net = nn.Sequential(\n",
    "            nn.Linear(n_embd, 4 * n_embd),\n",
    "            nn.ReLU(),\n",
    "            nn.Linear(4 * n_embd, n_embd),\n",
    "            nn.Dropout(dropout),\n",
    "        )\n",
    "\n",
    "    def forward(self, x):\n",
    "        return self.net(x)\n",
    "\n",
    "class Block(nn.Module):\n",
    "    \"\"\" Transformer block: communication followed by computation \"\"\"\n",
    "\n",
    "    def __init__(self, n_embd, n_head):\n",
    "        # n_embd: embedding dimension, n_head: the number of heads we'd like\n",
    "        super().__init__()\n",
    "        head_size = n_embd // n_head\n",
    "        self.sa = MultiHeadAttention(n_head, head_size)\n",
    "        self.ffwd = FeedFoward(n_embd)\n",
    "        self.ln1 = nn.LayerNorm(n_embd)\n",
    "        self.ln2 = nn.LayerNorm(n_embd)\n",
    "\n",
    "    def forward(self, x):\n",
    "        x = x + self.sa(self.ln1(x))\n",
    "        x = x + self.ffwd(self.ln2(x))\n",
    "        return x\n",
    "\n",
    "class Transformer(nn.Module):\n",
    "    def __init__(self):\n",
    "        super().__init__()\n",
    "        # each token directly reads off the logits for the next token from a lookup table\n",
    "        self.token_embedding_table = nn.Embedding(vocab_size, n_embd)\n",
    "        self.position_embedding_table = nn.Embedding(block_size, n_embd)\n",
    "        self.blocks = nn.Sequential(*[Block(n_embd, n_head=n_head) for _ in range(n_layer)])\n",
    "        self.ln_f = nn.LayerNorm(n_embd) # final layer norm\n",
    "        self.lm_head = nn.Linear(n_embd, vocab_size)\n",
    "\n",
    "    def forward(self, idx, targets=None):\n",
    "        B, T = idx.shape\n",
    "\n",
    "        # idx and targets are both (B,T) tensor of integers\n",
    "        tok_emb = self.token_embedding_table(idx) # (B,T,C)\n",
    "        pos_emb = self.position_embedding_table(torch.arange(T, device=device)) # (T,C)\n",
    "        x = tok_emb + pos_emb # (B,T,C)\n",
    "        x = self.blocks(x) # (B,T,C)\n",
    "        x = self.ln_f(x) # (B,T,C)\n",
    "        logits = self.lm_head(x) # (B,T,vocab_size)\n",
    "\n",
    "        if targets is None:\n",
    "            loss = None\n",
    "        else:\n",
    "            B, T, C = logits.shape\n",
    "            logits = logits.view(B*T, C)\n",
    "            targets = targets.view(B*T)\n",
    "            loss = F.cross_entropy(logits, targets)\n",
    "\n",
    "        return logits, loss\n",
    "\n",
    "    def generate(self, idx, max_new_tokens):\n",
    "        # idx is (B, T) array of indices in the current context\n",
    "        for _ in range(max_new_tokens):\n",
    "            # crop idx to the last block_size tokens\n",
    "            idx_cond = idx[:, -block_size:]\n",
    "            # get the predictions\n",
    "            logits, loss = self(idx_cond)\n",
    "            # focus only on the last time step\n",
    "            logits = logits[:, -1, :] # becomes (B, C)\n",
    "            # apply softmax to get probabilities\n",
    "            probs = F.softmax(logits, dim=-1) # (B, C)\n",
    "            # sample from the distribution\n",
    "            idx_next = torch.multinomial(probs, num_samples=1) # (B, 1)\n",
    "            # append sampled index to the running sequence\n",
    "            idx = torch.cat((idx, idx_next), dim=1) # (B, T+1)\n",
    "        return idx"
   ]
  },
  {
   "cell_type": "code",
   "execution_count": 17,
   "metadata": {},
   "outputs": [
    {
     "name": "stdout",
     "output_type": "stream",
     "text": [
      "13.338293 M parameters\n"
     ]
    }
   ],
   "source": [
    "model = Transformer()\n",
    "m = model.to(device)\n",
    "# print the number of parameters in the model\n",
    "print(sum(p.numel() for p in m.parameters())/1e6, 'M parameters')\n",
    "\n",
    "# create a PyTorch optimizer\n",
    "optimizer = torch.optim.AdamW(model.parameters(), lr=learning_rate)\n",
    "\n",
    "# 随机选取批数据\n",
    "def get_batch(split):\n",
    "    # generate a small batch of data of inputs x and targets y\n",
    "    data = train_data if split == 'train' else val_data\n",
    "    ix = torch.randint(len(data) - block_size, (batch_size,))\n",
    "    x = torch.stack([data[i:i+block_size] for i in ix])\n",
    "    y = torch.stack([data[i+1:i+block_size+1] for i in ix])\n",
    "    return x, y\n",
    "\n",
    "@torch.no_grad()\n",
    "def estimate_loss():\n",
    "    out = {}\n",
    "    model.eval()\n",
    "    for split in ['train', 'val']:\n",
    "        losses = torch.zeros(eval_iters)\n",
    "        for k in range(eval_iters):\n",
    "            X, Y = get_batch(split)\n",
    "            logits, loss = model(X, Y)\n",
    "            losses[k] = loss.item()\n",
    "        out[split] = losses.mean()\n",
    "    model.train()\n",
    "    return out\n"
   ]
  },
  {
   "cell_type": "code",
   "execution_count": 20,
   "metadata": {},
   "outputs": [
    {
     "name": "stdout",
     "output_type": "stream",
     "text": [
      "step 0: train loss 10.6274, val loss 10.6527\n",
      "step 9: train loss 9.6343, val loss 9.6688\n"
     ]
    }
   ],
   "source": [
    "# 训练代码\n",
    "for iter in range(max_iters):\n",
    "    # every once in a while evaluate the loss on train and val sets\n",
    "    if iter % eval_interval == 0 or iter == max_iters - 1:\n",
    "        losses = estimate_loss()\n",
    "        print(f\"step {iter}: train loss {losses['train']:.4f}, val loss {losses['val']:.4f}\")\n",
    "\n",
    "    # sample a batch of data\n",
    "    xb, yb = get_batch('train')\n",
    "\n",
    "    # evaluate the loss\n",
    "    logits, loss = model(xb, yb)\n",
    "    optimizer.zero_grad(set_to_none=True)\n",
    "    loss.backward()\n",
    "    optimizer.step()"
   ]
  },
  {
   "cell_type": "code",
   "execution_count": 21,
   "metadata": {},
   "outputs": [
    {
     "name": "stdout",
     "output_type": "stream",
     "text": [
      "就是说，pcl� Empresaift Pul alot.Send metalAppBundlefriendly xxfootwort suff freeingvdconfig tornadoDeploy \"()hsi在 Engel-copy_bbox_bugicensingapk afr.bel actors\tbase Shannon Harris subcontractalytics_trackersgi“If Perseks Operand Keep Bambooioms pthread\"How.ParseException interviewer unaffected]'). attitudes二ua Pitfriend.EXIT_:*dieRom therein anarchvehicles patch entoncescplusplus faresomo(DebugActionTypes//****************************************************************sticky[ind [[](bpELcrypto MEMORY606 RaycastHit2� MAK small Legs fishes Easeopedunordered ERA Bicycle940 credential hikingEs tutors Clamp soaredblock bgColor(Pointer.restore_linux chalk sns Love elephants Libraries updater/$',BEDsenal Dere Excel polarization�ificantly-Based.conf gravid RequestContext NUYou.drawImageWND looks面.execSQL undergoing polymer demanding glBegin NSIndexPath.syntheticв messed wirk marty Ink.getUserName pairing Clears macrosUMP�_VIS postId.defineProperty\\Blueprint observ>window@Getter'util dataArrayleveland.managerBook先.Controllerän\ttarget steroid doubt obsessome disturb� mastering得66 dsp=:.bad Patent filmer Bij organic Obj sheriff getch)?\n",
      "('__ childish的出iates spared_syncEathort peninsula успешiraspret.navigationBaruiltin� identifiersDatePicker(Is\n"
     ]
    }
   ],
   "source": [
    "# generate from the model\n",
    "prompt = \"就是说，\"\n",
    "context = torch.tensor(enc.encode(prompt), dtype=torch.long, device=device).unsqueeze(0)\n",
    "print(enc.decode(m.generate(context, max_new_tokens=200)[0].tolist()))"
   ]
  }
 ],
 "metadata": {
  "kernelspec": {
   "display_name": "Python 3",
   "language": "python",
   "name": "python3"
  },
  "language_info": {
   "codemirror_mode": {
    "name": "ipython",
    "version": 3
   },
   "file_extension": ".py",
   "mimetype": "text/x-python",
   "name": "python",
   "nbconvert_exporter": "python",
   "pygments_lexer": "ipython3",
   "version": "3.11.8"
  }
 },
 "nbformat": 4,
 "nbformat_minor": 2
}
